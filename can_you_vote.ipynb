# Create an if-else condition that tells you whether someone can vote
# The assessment must be based on their age.

age = input("Please enter your age: ")
age = int(age)

#if-else condition
if age >= 18:
  print("You can vote")
else:
  print("You cannot vote")